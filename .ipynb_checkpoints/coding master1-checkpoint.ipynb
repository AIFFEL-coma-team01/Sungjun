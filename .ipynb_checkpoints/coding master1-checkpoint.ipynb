{
 "cells": [
  {
   "cell_type": "markdown",
   "metadata": {},
   "source": [
    "다음주 수요일에 함께 공부할 단원은 6장 문자열 조작 입니다!!   \n",
    "이론   \n",
    "01 유효한 팰린드롬 (leetcode 125. Valid Palindrome) - Easy   \n",
    "02 문자열 뒤집기 (leetcode 344. Reverse String) - Easy   \n",
    "03 로그 파일 재정렬 (leetcode 937. Reorder Log File) - Easy   \n",
    "04 가장 흔한 단어 (leetcode 819. Most Common Word) - Easy   \n",
    "05 그룹 애너그램 (leetcode 49. Group Anagrams) - Medium   \n",
    "06 가장 긴 팰린드롬 부분 문자열 (leetcode 5. Longest Palindrome Substring) - Medium   \n",
    "1번부터 4번까지는 사전학습으로 풀어오시고 5번 6번은 같이 수요일에 풀어보도록 하겠습니다!!"
   ]
  },
  {
   "cell_type": "code",
   "execution_count": 21,
   "metadata": {},
   "outputs": [
    {
     "name": "stdout",
     "output_type": "stream",
     "text": [
      "True\n",
      "False\n"
     ]
    }
   ],
   "source": [
    "# leetcode 125\n",
    "# 박성준 풀이\n",
    "\n",
    "import re\n",
    "def isPalindrome(s):\n",
    "    s = s.lower()\n",
    "    s = re.sub('[:, ]','',s)\n",
    "    reverse_s = s[::-1]\n",
    "    \n",
    "    return s == reverse_s\n",
    "\n",
    "\n",
    "input1 = \"A man, a plan, a canal: Panama\"\n",
    "input2 = \"race a car\"\n",
    "\n",
    "print(isPalindrome(input1))\n",
    "print(isPalindrome(input2))"
   ]
  },
  {
   "cell_type": "code",
   "execution_count": 22,
   "metadata": {},
   "outputs": [
    {
     "name": "stdout",
     "output_type": "stream",
     "text": [
      "True\n",
      "False\n"
     ]
    }
   ],
   "source": [
    "# leetcode 125\n",
    "# 다른 사람 코드 풀이\n",
    "\n",
    "def isPalindrome(s) :\n",
    "    s =[ch.lower() for ch in s if ch.isalnum()]\n",
    "    return tuple(s) == tuple(reversed(s))\n",
    "\n",
    "\n",
    "input1 = \"A man, a plan, a canal: Panama\"\n",
    "input2 = \"race a car\"\n",
    "\n",
    "print(isPalindrome(input1))\n",
    "print(isPalindrome(input2))"
   ]
  },
  {
   "cell_type": "code",
   "execution_count": 40,
   "metadata": {},
   "outputs": [
    {
     "name": "stdout",
     "output_type": "stream",
     "text": [
      "['h', 'e', 'l', 'l', 'o']\n"
     ]
    }
   ],
   "source": [
    "# leetcode 344\n",
    "# 박성준 풀이\n",
    "\n",
    "input1 = [\"h\",\"e\",\"l\",\"l\",\"o\"]\n",
    "input2 = [\"H\",\"a\",\"n\",\"n\",\"a\",\"h\"]\n",
    "\n",
    "def reverseString(s):\n",
    "    \"\"\"\n",
    "    Do not return anything, modify s in-place instead.\n",
    "    \"\"\"\n",
    "#     s.reverse()\n",
    "#     return s\n",
    "\n",
    "    s = list(reversed(s))\n",
    "    \n",
    "reverseString(input1)\n",
    "reverseString(input2)\n",
    "\n",
    "print(input1)"
   ]
  },
  {
   "cell_type": "code",
   "execution_count": 9,
   "metadata": {},
   "outputs": [],
   "source": [
    "# leetcode 344\n",
    "# 다른 사람 코드 풀이\n",
    "\n",
    "def reverseString(s):\n",
    "    left, right = 0, len(s)-1\n",
    "    while left < right:\n",
    "        s[left], s[right] = s[right], s[left]\n",
    "        left += 1\n",
    "        right -= 1\n",
    "        \n"
   ]
  },
  {
   "cell_type": "code",
   "execution_count": null,
   "metadata": {},
   "outputs": [],
   "source": [
    "# leetcode 937\n",
    "# 박성준 풀이 ==> 무슨 말인지 못 알아들었음\n",
    "\n",
    "logs = [\"dig1 8 1 5 1\",\"let1 art can\",\"dig2 3 6\",\"let2 own kit dig\",\"let3 art zero\"]\n",
    "# [\"let1 art can\",\"let3 art zero\",\"let2 own kit dig\",\"dig1 8 1 5 1\",\"dig2 3 6\"]\n",
    "\n",
    "def reorderLogFiles(logs) :\n",
    "    \n",
    "            "
   ]
  },
  {
   "cell_type": "code",
   "execution_count": null,
   "metadata": {},
   "outputs": [],
   "source": [
    "# leetcode 937\n",
    "# 다른 사람 코드 풀이\n",
    "\n",
    "def reorderLogFiles(logs) :\n",
    "    letters, digits = [], []\n",
    "    for log in logs :\n",
    "        if log.split()[1].isdigit():\n",
    "            digits.append(log)\n",
    "        else :\n",
    "            letters.append(log)\n",
    "    \n",
    "    letters.sort(key=lambda x : (x.split()[1:], x.split()[0]))\n",
    "    return letter + digits"
   ]
  },
  {
   "cell_type": "code",
   "execution_count": 17,
   "metadata": {},
   "outputs": [
    {
     "name": "stdout",
     "output_type": "stream",
     "text": [
      "[1, 1, 2, 1, 2, 1, 1, 1, 1, 1]\n"
     ]
    }
   ],
   "source": [
    "# leetcode 819\n",
    "# 박성준 풀이\n",
    "\n",
    "paragraph = \"Bob hit a ball, the hit BALL flew far after it was hit.\"\n",
    "banned = [\"hit\"]\n",
    "\n",
    "import re\n",
    "\n",
    "def mostCommonWord(paragraph, banned):\n",
    "    \n",
    "    paragraph = paragraph.lower()\n",
    "    paragraph = re.sub('[,.]','',paragraph)\n",
    "    check_list = paragraph.split()\n",
    "    for x in check_list :\n",
    "        if x in banned :\n",
    "            check_list.remove(x)\n",
    "    \n",
    "    list1 = []\n",
    "    for y in check_list :\n",
    "        count = 0\n",
    "        for z in check_list :\n",
    "            if y == z :\n",
    "                count += 1\n",
    "        list1.append(count)\n",
    "        \n",
    "    print(list1) # 원래는 제일 큰 값을 가지는 값의 인덱스를 출력해 check_list에서 출력하려고 했다. 하지만 너무 복잡, 쉬운 방법은 없나?\n",
    "    \n",
    "    \n",
    "mostCommonWord(paragraph, banned)"
   ]
  },
  {
   "cell_type": "code",
   "execution_count": 18,
   "metadata": {},
   "outputs": [
    {
     "ename": "NameError",
     "evalue": "name 'collections' is not defined",
     "output_type": "error",
     "traceback": [
      "\u001b[0;31m---------------------------------------------------------------------------\u001b[0m",
      "\u001b[0;31mNameError\u001b[0m                                 Traceback (most recent call last)",
      "\u001b[0;32m<ipython-input-18-0f2cf53cdc30>\u001b[0m in \u001b[0;36m<module>\u001b[0;34m\u001b[0m\n\u001b[1;32m     14\u001b[0m \u001b[0mbanned\u001b[0m \u001b[0;34m=\u001b[0m \u001b[0;34m[\u001b[0m\u001b[0;34m\"hit\"\u001b[0m\u001b[0;34m]\u001b[0m\u001b[0;34m\u001b[0m\u001b[0;34m\u001b[0m\u001b[0m\n\u001b[1;32m     15\u001b[0m \u001b[0;34m\u001b[0m\u001b[0m\n\u001b[0;32m---> 16\u001b[0;31m \u001b[0mmostCommonWord\u001b[0m\u001b[0;34m(\u001b[0m\u001b[0mparagraph\u001b[0m\u001b[0;34m,\u001b[0m \u001b[0mbanned\u001b[0m\u001b[0;34m)\u001b[0m\u001b[0;34m\u001b[0m\u001b[0;34m\u001b[0m\u001b[0m\n\u001b[0m",
      "\u001b[0;32m<ipython-input-18-0f2cf53cdc30>\u001b[0m in \u001b[0;36mmostCommonWord\u001b[0;34m(paragraph, banned)\u001b[0m\n\u001b[1;32m      6\u001b[0m              \u001b[0;34m.\u001b[0m\u001b[0mlower\u001b[0m\u001b[0;34m(\u001b[0m\u001b[0;34m)\u001b[0m\u001b[0;34m.\u001b[0m\u001b[0msplit\u001b[0m\u001b[0;34m(\u001b[0m\u001b[0;34m)\u001b[0m\u001b[0;34m\u001b[0m\u001b[0;34m\u001b[0m\u001b[0m\n\u001b[1;32m      7\u001b[0m                 if word not in banned]\n\u001b[0;32m----> 8\u001b[0;31m     \u001b[0mcounts\u001b[0m \u001b[0;34m=\u001b[0m \u001b[0mcollections\u001b[0m\u001b[0;34m.\u001b[0m\u001b[0mCounter\u001b[0m\u001b[0;34m(\u001b[0m\u001b[0mwords\u001b[0m\u001b[0;34m)\u001b[0m\u001b[0;34m\u001b[0m\u001b[0;34m\u001b[0m\u001b[0m\n\u001b[0m\u001b[1;32m      9\u001b[0m \u001b[0;34m\u001b[0m\u001b[0m\n\u001b[1;32m     10\u001b[0m     \u001b[0;32mreturn\u001b[0m \u001b[0mcounts\u001b[0m\u001b[0;34m.\u001b[0m\u001b[0mmost_common\u001b[0m\u001b[0;34m(\u001b[0m\u001b[0;36m1\u001b[0m\u001b[0;34m)\u001b[0m\u001b[0;34m[\u001b[0m\u001b[0;36m0\u001b[0m\u001b[0;34m]\u001b[0m\u001b[0;34m[\u001b[0m\u001b[0;36m0\u001b[0m\u001b[0;34m]\u001b[0m\u001b[0;34m\u001b[0m\u001b[0;34m\u001b[0m\u001b[0m\n",
      "\u001b[0;31mNameError\u001b[0m: name 'collections' is not defined"
     ]
    }
   ],
   "source": [
    "# leetcode 819\n",
    "# 다른 사람 코드 풀이\n",
    "\n",
    "def mostCommonWord(paragraph, banned):\n",
    "    words = [word for word in re.sub(r'[^\\w]', ' ', paragraph)\n",
    "             .lower().split()\n",
    "                if word not in banned]\n",
    "    \n",
    "    counts = collections.Counter(words)\n",
    "    return counts.most_common(1)[0][0]\n",
    "\n",
    "\n",
    "paragraph = \"Bob hit a ball, the hit BALL flew far after it was hit.\"\n",
    "banned = [\"hit\"]\n",
    "\n",
    "mostCommonWord(paragraph, banned)"
   ]
  },
  {
   "cell_type": "code",
   "execution_count": null,
   "metadata": {},
   "outputs": [],
   "source": [
    "# leetcode 49\n",
    "# 박성준 풀이"
   ]
  },
  {
   "cell_type": "code",
   "execution_count": null,
   "metadata": {},
   "outputs": [],
   "source": [
    "# leetcode 49\n",
    "# 다른 사람 코드 풀이"
   ]
  },
  {
   "cell_type": "code",
   "execution_count": null,
   "metadata": {},
   "outputs": [],
   "source": [
    "# leetcode 5\n",
    "# 박성준 풀이"
   ]
  },
  {
   "cell_type": "code",
   "execution_count": null,
   "metadata": {},
   "outputs": [],
   "source": [
    "# leetcode 5\n",
    "# 다른 사람 코드 풀이"
   ]
  },
  {
   "cell_type": "code",
   "execution_count": null,
   "metadata": {},
   "outputs": [],
   "source": []
  },
  {
   "cell_type": "code",
   "execution_count": null,
   "metadata": {},
   "outputs": [],
   "source": []
  }
 ],
 "metadata": {
  "kernelspec": {
   "display_name": "aiffel",
   "language": "python",
   "name": "aiffel"
  },
  "language_info": {
   "codemirror_mode": {
    "name": "ipython",
    "version": 3
   },
   "file_extension": ".py",
   "mimetype": "text/x-python",
   "name": "python",
   "nbconvert_exporter": "python",
   "pygments_lexer": "ipython3",
   "version": "3.7.9"
  }
 },
 "nbformat": 4,
 "nbformat_minor": 4
}
