{
 "cells": [
  {
   "cell_type": "markdown",
   "metadata": {},
   "source": [
    "## 코딩마스터 2 풀어봅시다!!!"
   ]
  },
  {
   "cell_type": "markdown",
   "metadata": {},
   "source": [
    "# leetcode1 ⭐️ \n",
    "## 1. 두 수의 합"
   ]
  },
  {
   "cell_type": "code",
   "execution_count": 17,
   "metadata": {},
   "outputs": [
    {
     "data": {
      "text/plain": [
       "[1, 2]"
      ]
     },
     "execution_count": 17,
     "metadata": {},
     "output_type": "execute_result"
    }
   ],
   "source": [
    "# 박성준 풀이\n",
    "\n",
    "# 문제 : 리스트 중 두 원소를 더해 target과 일치하는 경우, 해당 원소들의 인덱스를 반환하라. \n",
    "\n",
    "def twoSum(nums, target):\n",
    "    for x in range(0,len(nums)): # 처음부터 끝에서 바로 앞까지\n",
    "        for y in range(x+1, len(nums)): # x 바로 다음 수부터 끝까지\n",
    "            if nums[x] + nums[y] == target: # 만약 두 인덱스의 합이 target과 같다면?\n",
    "                return [x,y] # 리턴!\n",
    "            \n",
    "\n",
    "nums1 = [2,7,11,15]\n",
    "target1 = 9; # [0,1]\n",
    "\n",
    "nums2 = [3,2,4]\n",
    "target2 = 6 # [1,2]\n",
    "\n",
    "nums3 = [3,3]\n",
    "target3 = 6 # [0,1]\n",
    "\n",
    "twoSum(nums2, target2)"
   ]
  },
  {
   "cell_type": "code",
   "execution_count": 14,
   "metadata": {},
   "outputs": [
    {
     "data": {
      "text/plain": [
       "[1, 2]"
      ]
     },
     "execution_count": 14,
     "metadata": {},
     "output_type": "execute_result"
    }
   ],
   "source": [
    "# 다른 사람 풀이\n",
    "\n",
    "# enumerate를 활용한다!! --> 해당 인덱스와 값을 enumerate 객체로 리턴한다.\n",
    "\n",
    "def twoSum(nums, target) :\n",
    "    nums_map = {} # 비어있는 딕셔너리 선언!\n",
    "    \n",
    "    for x, y in enumerate(nums):   # enumerate(nums)는 인덱스와 값을 순서대로 열거\n",
    "        if target - y in nums_map: # 만약 (target - 특정원소)에 해당하는 값이 nums_map 딕셔너리의 키로 있을 때\n",
    "            return [nums_map[target - y], x] # 해당 키에 해당하는 값(인덱스)와 x를 리턴\n",
    "        nums_map[y] = x # 아니라면 nums_map[원소] = 인덱스 추가\n",
    "        \n",
    "nums1 = [2,7,11,15]\n",
    "target1 = 9; # [0,1]\n",
    "\n",
    "nums2 = [3,2,4]\n",
    "target2 = 6 # [1,2]\n",
    "\n",
    "nums3 = [3,3]\n",
    "target3 = 6 # [0,1]\n",
    "\n",
    "twoSum(nums2, target2)"
   ]
  },
  {
   "cell_type": "code",
   "execution_count": 28,
   "metadata": {},
   "outputs": [],
   "source": [
    "# 1-5번 문제풀이를 해볼까?\n",
    "# 투 포인터로 풀 수 있지 않을까?\n",
    "\n",
    "def twoSum(nums, target) :\n",
    "    left, right = 0, len(nums)-1\n",
    "    \n",
    "    while not left == right :\n",
    "        # 합이 타겟보다 크면 오른쪽 포인터를 왼쪽으로 옮긴다.\n",
    "        if nums[left] + nums[right] < target :\n",
    "            left += 1\n",
    "        # 합이 타겟보다 작으면 왼쪽 포인터를 오른쪽으로 옮긴다.\n",
    "        elif nums[left] + nums[right] > target :\n",
    "            right -= 1\n",
    "        else :\n",
    "            return [left, right]\n",
    "        \n",
    "nums1 = [2,7,11,15]\n",
    "target1 = 9; # [0,1]\n",
    "\n",
    "# 여기서 안된다. 정렬이 아니기 때문!!(보통 투포인터는 정렬일때 쓴다) // 그렇다면 어떻게? --> 인덱스를 따로 만들어보기..? 잘 모르겠다.\n",
    "nums2 = [3,2,4]\n",
    "target2 = 6 # [1,2]\n",
    "\n",
    "nums3 = [3,3]\n",
    "target3 = 6 # [0,1]\n",
    "\n",
    "twoSum(nums2, target2)"
   ]
  },
  {
   "cell_type": "markdown",
   "metadata": {},
   "source": [
    "# leetcode 42 ⭐️⭐️⭐️\n",
    "## 2. 빗물 트래핑"
   ]
  },
  {
   "cell_type": "code",
   "execution_count": null,
   "metadata": {},
   "outputs": [],
   "source": [
    "# 박성준 풀이"
   ]
  },
  {
   "cell_type": "code",
   "execution_count": null,
   "metadata": {},
   "outputs": [],
   "source": [
    "# 다른 사람 풀이\n",
    "\n"
   ]
  },
  {
   "cell_type": "markdown",
   "metadata": {},
   "source": [
    "# leetcode 15 ⭐️⭐️\n",
    "## 3. 세 수의 합"
   ]
  },
  {
   "cell_type": "code",
   "execution_count": null,
   "metadata": {},
   "outputs": [],
   "source": [
    "# 박성준 풀이"
   ]
  },
  {
   "cell_type": "code",
   "execution_count": null,
   "metadata": {},
   "outputs": [],
   "source": [
    "# 다른 사람 풀이\n",
    "\n",
    "def threeSum(nums):\n",
    "    results = []\n",
    "    nums.sort()\n",
    "    \n",
    "    for i in range(len(nums)-2):\n",
    "        # 중복된 값 건너뛰기\n",
    "        if i > 0 and nums[i] == nums[i-1]:\n",
    "            continue\n",
    "            \n",
    "        # 간격을 좁혀가며 합 sum 계산\n",
    "        left, right = i+1, len(nums)-1\n",
    "        \n",
    "        while left < right :\n",
    "            sum_three = nums[i] + nums[left] + nums[right]\n",
    "            if sum_three < 0 :\n",
    "                left += 1\n",
    "            elif sum_three > 0:\n",
    "                right -= 1\n",
    "            else :\n",
    "                # sum_three = 0 인 경우이므로 정답 및 스킵 처리\n",
    "                results.append((nums[i], nums[left], nums[right]))\n",
    "                \n",
    "                while left < right and nums[left] == nums[left + 1]:\n",
    "                    left += 1\n",
    "                while left < right and nums[right] == nums[right + 1]:\n",
    "                    right -= 1\n",
    "                \n",
    "                left += 1\n",
    "                right -= 1\n",
    "                \n",
    "        return results\n",
    "    \n",
    "\n",
    "                \n",
    "            "
   ]
  },
  {
   "cell_type": "markdown",
   "metadata": {},
   "source": [
    "# leetcode 561 ⭐️\n",
    "## 4. 배열 파티션 I "
   ]
  },
  {
   "cell_type": "code",
   "execution_count": 20,
   "metadata": {},
   "outputs": [
    {
     "name": "stdout",
     "output_type": "stream",
     "text": [
      "4\n",
      "9\n"
     ]
    }
   ],
   "source": [
    "# 박성준 풀이\n",
    "\n",
    "# 문제 : 리스트를 정렬하여 2개씩 잘라 값을 비교한다. 그 중 작은 값만을 골라 더한 뒤 리턴한다.\n",
    "\n",
    "def arrayPairSum(num) :\n",
    "    \n",
    "    # 비슷한 숫자끼리 비교해야 제일 큰 수 get\n",
    "    num.sort() # 오름차순 순서로 바꾼다.      ex. [1,2,3,4]    //    [1,2,2,5,6,6]\n",
    "    n = len(num) # n은 전체 리스트의 개수!!\n",
    "    min_list = [] # 최솟값을 담을 리스트\n",
    "    \n",
    "    for x in range(n): # for 문으로 반복해봅시다.\n",
    "        if x % 2 == 0 : # 인덱스가 2의 배수라면? // 나눌 필요없이 2 씩 더해서 하면 for문 필요없어\n",
    "            a = num[x] # 해당 인덱스의 원소는 a이다.\n",
    "            min_list.append(a) # 최솟값을 리스트에 추가\n",
    "            \n",
    "    return sum(min_list) # 리스트의 합 리턴\n",
    "            \n",
    "    \n",
    "nums1 = [1,4,3,2] # 4 = 1+ 3\n",
    "nums2 = [6,2,6,5,1,2] # 9 = 1 + 2 + 6\n",
    "\n",
    "print(arrayPairSum(nums1))\n",
    "print(arrayPairSum(nums2))\n",
    "\n",
    "\n",
    "# Runtime: 312 ms, faster than 11.94% of Python3 online submissions for Array Partition I.\n",
    "# Memory Usage: 16.7 MB, less than 85.71% of Python3 online submissions for Array Partition I."
   ]
  },
  {
   "cell_type": "code",
   "execution_count": 18,
   "metadata": {},
   "outputs": [
    {
     "name": "stdout",
     "output_type": "stream",
     "text": [
      "4\n",
      "9\n"
     ]
    }
   ],
   "source": [
    "# 다른 사람 풀이\n",
    "\n",
    "def arrayPairSum(nums):\n",
    "        return sum(sorted(nums)[::2]) # sorted 한 뒤, 2의 배수만 출력하고, 이를 더한다.\n",
    "    \n",
    "nums1 = [1,4,3,2] # 4\n",
    "nums2 = [6,2,6,5,1,2] # 9\n",
    "\n",
    "print(arrayPairSum(nums1))\n",
    "print(arrayPairSum(nums2))"
   ]
  },
  {
   "cell_type": "markdown",
   "metadata": {},
   "source": [
    "# leetcode 238 ⭐️⭐️\n",
    "## 5. 자신을 제외한 배열의 곱"
   ]
  },
  {
   "cell_type": "code",
   "execution_count": 37,
   "metadata": {},
   "outputs": [
    {
     "ename": "IndexError",
     "evalue": "pop index out of range",
     "output_type": "error",
     "traceback": [
      "\u001b[0;31m---------------------------------------------------------------------------\u001b[0m",
      "\u001b[0;31mIndexError\u001b[0m                                Traceback (most recent call last)",
      "\u001b[0;32m<ipython-input-37-4b7d79c2702f>\u001b[0m in \u001b[0;36m<module>\u001b[0;34m\u001b[0m\n\u001b[1;32m     20\u001b[0m \u001b[0mnums\u001b[0m \u001b[0;34m=\u001b[0m \u001b[0;34m[\u001b[0m\u001b[0;36m1\u001b[0m\u001b[0;34m,\u001b[0m\u001b[0;36m2\u001b[0m\u001b[0;34m,\u001b[0m\u001b[0;36m3\u001b[0m\u001b[0;34m,\u001b[0m\u001b[0;36m4\u001b[0m\u001b[0;34m]\u001b[0m \u001b[0;31m# [24,12,8,6] 1을 제외하고 2*3*4 = 24\u001b[0m\u001b[0;34m\u001b[0m\u001b[0;34m\u001b[0m\u001b[0m\n\u001b[1;32m     21\u001b[0m \u001b[0;34m\u001b[0m\u001b[0m\n\u001b[0;32m---> 22\u001b[0;31m \u001b[0mproductExceptSelf\u001b[0m\u001b[0;34m(\u001b[0m\u001b[0mnums\u001b[0m\u001b[0;34m)\u001b[0m\u001b[0;34m\u001b[0m\u001b[0;34m\u001b[0m\u001b[0m\n\u001b[0m",
      "\u001b[0;32m<ipython-input-37-4b7d79c2702f>\u001b[0m in \u001b[0;36mproductExceptSelf\u001b[0;34m(nums)\u001b[0m\n\u001b[1;32m      6\u001b[0m     \u001b[0;32mfor\u001b[0m \u001b[0mx\u001b[0m \u001b[0;32min\u001b[0m \u001b[0mrange\u001b[0m\u001b[0;34m(\u001b[0m\u001b[0;36m0\u001b[0m\u001b[0;34m,\u001b[0m\u001b[0mlen\u001b[0m\u001b[0;34m(\u001b[0m\u001b[0mnums\u001b[0m\u001b[0;34m)\u001b[0m\u001b[0;34m)\u001b[0m\u001b[0;34m:\u001b[0m\u001b[0;34m\u001b[0m\u001b[0;34m\u001b[0m\u001b[0m\n\u001b[1;32m      7\u001b[0m         \u001b[0mdel_self_list\u001b[0m \u001b[0;34m=\u001b[0m \u001b[0mnums\u001b[0m\u001b[0;34m\u001b[0m\u001b[0;34m\u001b[0m\u001b[0m\n\u001b[0;32m----> 8\u001b[0;31m         \u001b[0mdel_self_list\u001b[0m\u001b[0;34m.\u001b[0m\u001b[0mpop\u001b[0m\u001b[0;34m(\u001b[0m\u001b[0mx\u001b[0m\u001b[0;34m)\u001b[0m\u001b[0;34m\u001b[0m\u001b[0;34m\u001b[0m\u001b[0m\n\u001b[0m\u001b[1;32m      9\u001b[0m \u001b[0;34m\u001b[0m\u001b[0m\n\u001b[1;32m     10\u001b[0m         \u001b[0mz\u001b[0m \u001b[0;34m=\u001b[0m \u001b[0;36m1\u001b[0m\u001b[0;34m\u001b[0m\u001b[0;34m\u001b[0m\u001b[0m\n",
      "\u001b[0;31mIndexError\u001b[0m: pop index out of range"
     ]
    }
   ],
   "source": [
    "# 박성준 풀이\n",
    "def productExceptSelf(nums):\n",
    "    \n",
    "    answer_list = []\n",
    "    \n",
    "    for x in range(len(nums)):\n",
    "        del_self_list = nums\n",
    "        del_self_list.pop(x)\n",
    "        \n",
    "        z = 1\n",
    "        for y in del_self_list:\n",
    "            z = z * y\n",
    "        answer_list.append(z)\n",
    "        \n",
    "        \n",
    "    return answer_list\n",
    "        \n",
    "\n",
    "\n",
    "nums = [1,2,3,4] # [24,12,8,6] 1을 제외하고 2*3*4 = 24\n",
    "\n",
    "productExceptSelf(nums)"
   ]
  },
  {
   "cell_type": "code",
   "execution_count": 39,
   "metadata": {},
   "outputs": [
    {
     "data": {
      "text/plain": [
       "[24, 12, 8, 6]"
      ]
     },
     "execution_count": 39,
     "metadata": {},
     "output_type": "execute_result"
    }
   ],
   "source": [
    "# 다른 사람 풀이\n",
    "\n",
    "\n",
    "def productExceptSelf(nums):\n",
    "    out = []\n",
    "    p = 1\n",
    "    out = []\n",
    "    # 왼쪽 곱셈 결과\n",
    "    for i in range(len(nums)):\n",
    "        out.append(p)\n",
    "        p *= nums[i]\n",
    "\n",
    "    # 오른쪽 곱셈 결과를 구하는 동시에 out을 재활용해서 결과리스트도 구한다.\n",
    "    p = 1\n",
    "    for i in range(len(nums) - 1, -1, -1):\n",
    "        out[i] *= p\n",
    "        p *= nums[i]\n",
    "\n",
    "    return out\n",
    "        \n",
    "nums = [1,2,3,4] # [24,12,8,6] 1을 제외하고 2*3*4 = 24\n",
    "\n",
    "productExceptSelf(nums)"
   ]
  },
  {
   "cell_type": "markdown",
   "metadata": {},
   "source": [
    "# leetcode 121 ⭐️\n",
    "## 6. 주식을 사고팔기 가장 좋은 시점"
   ]
  },
  {
   "cell_type": "code",
   "execution_count": 33,
   "metadata": {},
   "outputs": [
    {
     "data": {
      "text/plain": [
       "5"
      ]
     },
     "execution_count": 33,
     "metadata": {},
     "output_type": "execute_result"
    }
   ],
   "source": [
    "# 박성준 풀이\n",
    "\n",
    "def maxProfit(prices):\n",
    "    profits = 0\n",
    "\n",
    "    price_num = len(prices)\n",
    "    \n",
    "    for x in range(price_num-1) :\n",
    "        for y in range(x+1, price_num):\n",
    "            if prices[y] - prices[x] > profits :\n",
    "                profits = (prices[y]-prices[x])\n",
    "    \n",
    "    return profits\n",
    "    \n",
    "prices1 = [7,1,5,3,6,4] # 5\n",
    "prices2 = [7,6,4,3,1] # 0 \n",
    "\n",
    "maxProfit(prices1)\n",
    "maxProfit(prices2)\n",
    "\n",
    "\n",
    "## 결과값은 맞다. 하지만 Time Limit exceeded!!"
   ]
  },
  {
   "cell_type": "code",
   "execution_count": null,
   "metadata": {},
   "outputs": [],
   "source": [
    "# 다른 사람 풀이\n",
    "\n",
    "import sys\n",
    "\n",
    "def maxProfit(prices):\n",
    "        profit = 0\n",
    "        min_price = sys.maxsize\n",
    "        \n",
    "        # 최솟값과 최댓값을 계속 갱신\n",
    "        for price in prices:\n",
    "            min_price = min(min_price, price)\n",
    "            profit = max(profit, price - min_price)\n",
    "            \n",
    "        return profit\n",
    "    \n",
    "prices1 = [7,1,5,3,6,4] # 5\n",
    "prices2 = [7,6,4,3,1] # 0 \n",
    "\n",
    "print(maxProfit(prices1))\n",
    "print(maxProfit(prices2))"
   ]
  },
  {
   "cell_type": "code",
   "execution_count": 23,
   "metadata": {},
   "outputs": [
    {
     "name": "stdout",
     "output_type": "stream",
     "text": [
      "5\n",
      "0\n"
     ]
    }
   ],
   "source": []
  },
  {
   "cell_type": "code",
   "execution_count": null,
   "metadata": {},
   "outputs": [],
   "source": [
    "\n"
   ]
  },
  {
   "cell_type": "code",
   "execution_count": null,
   "metadata": {},
   "outputs": [],
   "source": []
  }
 ],
 "metadata": {
  "kernelspec": {
   "display_name": "aiffel",
   "language": "python",
   "name": "aiffel"
  },
  "language_info": {
   "codemirror_mode": {
    "name": "ipython",
    "version": 3
   },
   "file_extension": ".py",
   "mimetype": "text/x-python",
   "name": "python",
   "nbconvert_exporter": "python",
   "pygments_lexer": "ipython3",
   "version": "3.7.9"
  }
 },
 "nbformat": 4,
 "nbformat_minor": 4
}
