{
 "cells": [
  {
   "cell_type": "markdown",
   "metadata": {},
   "source": [
    "# 01. 팰린드론 연결리스트(leetcode 234. Palindrome Linked List) - ⭐️\n",
    "\n"
   ]
  },
  {
   "cell_type": "code",
   "execution_count": null,
   "metadata": {},
   "outputs": [],
   "source": [
    "# 박성준 풀이\n",
    "\n",
    "def isPalindrome(head) :\n",
    "    if head"
   ]
  },
  {
   "cell_type": "code",
   "execution_count": 2,
   "metadata": {},
   "outputs": [],
   "source": [
    "# 문제 풀이\n",
    "\n",
    "def isPalindrome(head) :\n",
    "    q:List = []  # q를 리스트로 선언\n",
    "    \n",
    "    if not head : # head 안에 아무것도 없다면\n",
    "        return True # True를 선언\n",
    "     \n",
    "    node = head # node에 head를 넣는다.\n",
    "    # 리스트 변환\n",
    "    while node is not None : # node 안에 val이 존재한다면\n",
    "        q.append(node.val) # node.val을 q에 넣는다\n",
    "        node = node.next # node에는 다시 node.nect를 넣는다. 이를 node의 모든 원소에 적용\n",
    "        \n",
    "        \n",
    "    # 팰린드롬 판별\n",
    "    while len(q) > 1: # 2개씩 뽑아야 하기 때문에 2개 이상\n",
    "        if q.pop(0) != q.pop(): # 첫번째와 마지막을 뽑아서 다를 때\n",
    "            return False # False 를 리턴\n",
    "        \n",
    "        \n",
    "    return True\n"
   ]
  },
  {
   "cell_type": "markdown",
   "metadata": {},
   "source": [
    "# 02. 두 정렬 리스트의 병합(leetcode 21. Merge Two Sorted Lists) - ⭐️\n",
    "\n"
   ]
  },
  {
   "cell_type": "code",
   "execution_count": null,
   "metadata": {},
   "outputs": [],
   "source": [
    "# 박성준 풀이"
   ]
  },
  {
   "cell_type": "code",
   "execution_count": null,
   "metadata": {},
   "outputs": [],
   "source": [
    "# 문제 풀이"
   ]
  },
  {
   "cell_type": "markdown",
   "metadata": {},
   "source": [
    "# 03. 역순 연결 리스트(leetcode 206. Reverse Linked List) - ⭐️\n",
    "\n"
   ]
  },
  {
   "cell_type": "code",
   "execution_count": null,
   "metadata": {},
   "outputs": [],
   "source": [
    "# 박성준 풀이"
   ]
  },
  {
   "cell_type": "code",
   "execution_count": null,
   "metadata": {},
   "outputs": [],
   "source": [
    "# 문제 풀이"
   ]
  },
  {
   "cell_type": "markdown",
   "metadata": {},
   "source": [
    "# 04. 두 수의 덧셈 (leetcode 2. Add Two Numbers) - ⭐️⭐️\n",
    "\n"
   ]
  },
  {
   "cell_type": "code",
   "execution_count": null,
   "metadata": {},
   "outputs": [],
   "source": [
    "# 박성준 풀이"
   ]
  },
  {
   "cell_type": "code",
   "execution_count": null,
   "metadata": {},
   "outputs": [],
   "source": [
    "# 문제 풀이"
   ]
  },
  {
   "cell_type": "markdown",
   "metadata": {},
   "source": [
    "# 05. 페어의 노드 스왑 (leetcode 24. Swap Nodes in Pairs) - ⭐️⭐️\n",
    "\n"
   ]
  },
  {
   "cell_type": "code",
   "execution_count": null,
   "metadata": {},
   "outputs": [],
   "source": [
    "# 박성준 풀이\n",
    "def swapPairs(self, head : listNode) -> ListNode :\n",
    "    cur = head\n",
    "    \n",
    "    while cur and cur.next :\n",
    "        # 값만 교환\n",
    "        cur.val, cur.next.val = cur.next.val, cur.val\n",
    "        cur = cur.next.next\n",
    "        \n",
    "    return head\n",
    "\n",
    "\n",
    "'''\n",
    "작동 순서\n",
    "\n",
    "1,2 --> 2,1 # cur.val, cur.next.val = cur.next.val, cur.val\n",
    "\n",
    "cur = 3 # cur = cur.next.next\n",
    "\n",
    "3,4 --> 4,3 # cur.val, cur.next.val = cur.next.val, cur.val\n",
    "\n",
    "cur.next.next = None 이므로 while loop 탈출\n",
    "'''\n"
   ]
  },
  {
   "cell_type": "code",
   "execution_count": null,
   "metadata": {},
   "outputs": [],
   "source": [
    "# 문제 풀이\n",
    "\n",
    "# 이게 무슨 말일까.\n",
    "\n",
    "def swapPairs(self, head : listNode) -> ListNode : # 함수 선언\n",
    "    if head and head.next : # head나 head.next가 존재하면 그대로 진행 / head.next가 None이면 X\n",
    "        p = head.next # p에 head.next 값을 넣는다.\n",
    "        \n",
    "        # 스왑된 값을 리턴받음 ?????\n",
    "        head.next = self.swapPairs(p.next) # head.next에는 계속해서 head.next.next.~ / None이 될 때까지\n",
    "        p.next = head\n",
    "        return p\n",
    "    return head"
   ]
  },
  {
   "cell_type": "markdown",
   "metadata": {},
   "source": [
    "# 06. 홀짝 연결 리스트 (leetcode 328. Odd Even Linked List) - ⭐️⭐️\n",
    "\n"
   ]
  },
  {
   "cell_type": "code",
   "execution_count": null,
   "metadata": {},
   "outputs": [],
   "source": [
    "# 박성준 풀이"
   ]
  },
  {
   "cell_type": "code",
   "execution_count": null,
   "metadata": {},
   "outputs": [],
   "source": [
    "# 문제 풀이"
   ]
  },
  {
   "cell_type": "markdown",
   "metadata": {},
   "source": [
    "# 07. 역순 연결 리스트2 (leetcode 92. Reverse Linked List 2) - ⭐️⭐️\n"
   ]
  },
  {
   "cell_type": "code",
   "execution_count": null,
   "metadata": {},
   "outputs": [],
   "source": [
    "# 박성준 풀이"
   ]
  },
  {
   "cell_type": "code",
   "execution_count": null,
   "metadata": {},
   "outputs": [],
   "source": [
    "# 문제 풀이"
   ]
  }
 ],
 "metadata": {
  "kernelspec": {
   "display_name": "aiffel",
   "language": "python",
   "name": "aiffel"
  },
  "language_info": {
   "codemirror_mode": {
    "name": "ipython",
    "version": 3
   },
   "file_extension": ".py",
   "mimetype": "text/x-python",
   "name": "python",
   "nbconvert_exporter": "python",
   "pygments_lexer": "ipython3",
   "version": "3.7.9"
  }
 },
 "nbformat": 4,
 "nbformat_minor": 4
}
