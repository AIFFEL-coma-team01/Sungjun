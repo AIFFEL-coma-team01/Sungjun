{
 "cells": [
  {
   "cell_type": "code",
   "execution_count": 2,
   "metadata": {
    "slideshow": {
     "slide_type": "slide"
    }
   },
   "outputs": [
    {
     "name": "stdout",
     "output_type": "stream",
     "text": [
      "5\n",
      "4\n",
      "3\n",
      "2\n",
      "1\n"
     ]
    }
   ],
   "source": [
    "# 연결리스트를 이용한 스택 ADT 구현\n",
    "\n",
    "class Node :\n",
    "    def __init__(self,item,next):\n",
    "        self.item = item\n",
    "        self.next = next\n",
    "        \n",
    "class Stack : \n",
    "    def __init__(self):\n",
    "        self.last = None\n",
    "    \n",
    "    def push(self, item):\n",
    "        self.last = Node(item, self.last)\n",
    "        \n",
    "    def pop(self):\n",
    "        item = self.last.item\n",
    "        self.last = self.last.next\n",
    "        return item\n",
    "    \n",
    "\n",
    "stack = Stack()\n",
    "stack.push(1)\n",
    "stack.push(2)\n",
    "stack.push(3)\n",
    "stack.push(4)\n",
    "stack.push(5)\n",
    "\n",
    "for _ in range(5):\n",
    "    print(stack.pop())\n"
   ]
  },
  {
   "cell_type": "markdown",
   "metadata": {
    "slideshow": {
     "slide_type": "slide"
    }
   },
   "source": [
    "# 20. 유효한 괄호(leetcode 20. Valid Parentheses) - ⭐️\n",
    "\n",
    "Given a string s containing just the characters '(', ')', '{', '}', '[' and ']', determine if the input string is valid.\n",
    "\n",
    "An input string is valid if:\n",
    "\n",
    "Open brackets must be closed by the same type of brackets.\n",
    "Open brackets must be closed in the correct order."
   ]
  },
  {
   "cell_type": "code",
   "execution_count": 1,
   "metadata": {
    "slideshow": {
     "slide_type": "slide"
    }
   },
   "outputs": [
    {
     "data": {
      "text/plain": [
       "True"
      ]
     },
     "execution_count": 1,
     "metadata": {},
     "output_type": "execute_result"
    }
   ],
   "source": [
    "# 박성준 풀이\n",
    "\n",
    "# 결국 문장부호가 올바르게 쓰이고 닫혔을 때만 맞는다. 순서가 중요!\n",
    "def isValid(s) :\n",
    "    if len(s) % 2 != 0 : # 일단 짝수가 아니면 버린다.\n",
    "        return False\n",
    "\n",
    "    pDict = {']':'[', ')':'(', '}':'{'} # dict로 만든다.\n",
    "    pOpens = {'[', '(', '{'} # set으로 만든다.\n",
    "    new_list = list(s) # 철자 단위로 리스트를 만든다.\n",
    "    check_list = [] # 체크리스트\n",
    "    \n",
    "    for x in new_list: # for문으로 하나씩 살펴본다.\n",
    "        if x in pOpens : # 여는 괄호가 있다면?\n",
    "            check_list.append(x) # check_list에 넣는다.\n",
    "        else :\n",
    "            if check_list[-1] == pDict[x]: # 만약 x값이 딕셔너리 키로 들어갔을 때 값이, 가장 최근의 check_list값과 일치한다면?\n",
    "                check_list.pop() # 그럼 하나 빼고\n",
    "            else : # 아니면 False\n",
    "                return False\n",
    "\n",
    "    if len(check_list) > 0 :\n",
    "        return False\n",
    "    return True\n",
    "\n",
    "s1 = \"()\" # true\n",
    "s2 = \"()[]{}\" # true\n",
    "s3 = \"(]\" #false\n",
    "s4 = \"([)]\" # false\n",
    "s5 = \"{[]}\" # true\n",
    "s6 = \"[\"  # False\n",
    "s7 = \"((\" # False\n",
    "s8 = \"](\" # False\n",
    "isValid(s1)"
   ]
  },
  {
   "cell_type": "code",
   "execution_count": 33,
   "metadata": {
    "slideshow": {
     "slide_type": "slide"
    }
   },
   "outputs": [
    {
     "data": {
      "text/plain": [
       "['(', '(']"
      ]
     },
     "execution_count": 33,
     "metadata": {},
     "output_type": "execute_result"
    }
   ],
   "source": [
    "# 다른 사람 풀이\n",
    "def isValid(s) :\n",
    "    stack = []\n",
    "    table = {']':'[', ')':'(', '}':'{'}\n",
    "    \n",
    "    for char in s :                                        # s 안에 있는 것들 중에서\n",
    "        if char not in table:                              # table 키 중에서 없으면?\n",
    "            stack.append(char)                             # stack에 넣는다.\n",
    "        elif not stack or table[char] != stack.pop():      # stack이나 table[char]이 stack.pop()과 같다면?\n",
    "            return False                                   # return False\n",
    "    return len(stack) == 0                                 # len(stack) == 0 이면 True를 리턴\n",
    "\n",
    "s1 = \"()\" # true\n",
    "s2 = \"()[]{}\" # true\n",
    "s3 = \"(]\" #false\n",
    "s4 = \"([)]\" # false\n",
    "s5 = \"{[]}\" # true\n",
    "s6 = \"[\"  # False\n",
    "s7 = \"((\" # False\n",
    "s8 = \"](\" # False\n",
    "isValid(s7)"
   ]
  },
  {
   "cell_type": "markdown",
   "metadata": {},
   "source": [
    "# 21. 중복 문자 제거(leetcode 316. Remove Duplicate letters) - ⭐️⭐️⭐️\n",
    "\n",
    "Given a string s, remove duplicate letters so that every letter appears once and only once. You must make sure your result is the smallest in lexicographical order among all possible results."
   ]
  },
  {
   "cell_type": "code",
   "execution_count": null,
   "metadata": {},
   "outputs": [],
   "source": [
    "# 박성준 풀이\n",
    "\n",
    "def removeDuplicateLetters(s):\n",
    "    \n",
    "\n",
    "Example 1:\n",
    "s = \"bcabc\" # \"abc\"\n",
    "\n",
    "Example 2:\n",
    "s = \"cbacdcbc\" # \"acdb\""
   ]
  },
  {
   "cell_type": "code",
   "execution_count": null,
   "metadata": {},
   "outputs": [],
   "source": []
  },
  {
   "cell_type": "markdown",
   "metadata": {
    "slideshow": {
     "slide_type": "slide"
    }
   },
   "source": [
    "# 22. 일일 온도(leetcode 739. Daily Temperatures) - ⭐️⭐️\n",
    "\n",
    "Given a list of daily temperatures T, return a list such that, for each day in the input, tells you how many days you would have to wait until a warmer temperature. If there is no future day for which this is possible, put 0 instead.\n",
    "\n",
    "For example, given the list of temperatures T = [73, 74, 75, 71, 69, 72, 76, 73], your output should be [1, 1, 4, 2, 1, 1, 0, 0]."
   ]
  },
  {
   "cell_type": "code",
   "execution_count": 7,
   "metadata": {
    "slideshow": {
     "slide_type": "slide"
    }
   },
   "outputs": [
    {
     "data": {
      "text/plain": [
       "[1, 1, 4, 2, 1, 1, 0, 0]"
      ]
     },
     "execution_count": 7,
     "metadata": {},
     "output_type": "execute_result"
    }
   ],
   "source": [
    "# 박성준 풀이\n",
    "\n",
    "T = [73, 74, 75, 71, 69, 72, 76, 73]  \n",
    "\n",
    "# 일단 문제의 의미부터 파악해보자.\n",
    "# 73에서 온도가 높은 날(74)까지 하루면 된다. 때문에 첫번째 원소는 1이다.\n",
    "# 74에서 온도가 높은 날(75)까지는 하루면 된다. 때문에 두번째 원소는 1이다.\n",
    "# 75보다 온도가 높은 날(76)까지 4일이 걸린다. 때문에 세번째 원소는 4이다.\n",
    "# 71보다 온도가 높은 날(72)까지는 2일이 걸린다. 때문에 네번째 원소는 2이다.\n",
    "\n",
    "# def dailyTemperatures(T) :\n",
    "#     new_list = []                   # 나중에 리턴할 리스트를 만든다. \n",
    "#     for x in range(len(T)-2) :      # 이거로 하면 전체에 적용은 못함\n",
    "#         count = 1\n",
    "#         next_num = x + 1\n",
    "#         while T[x] > T[next_num] :\n",
    "#             next_num += 1\n",
    "#             count += 1\n",
    "#         new_list.append(count)\n",
    "#     return new_list\n",
    "\n",
    "# dailyTemperatures(T) #  [1, 1, 4, 2, 1, 1]\n",
    "\n",
    "\n",
    "def dailyTemperatures(T) :\n",
    "    \n",
    "    new_list = [0]*len(T)                   # 나중에 리턴할 리스트를 만든다. 먼저 0으로 바꾸고 나중에 \n",
    "    for x in range(len(T)-2) :              # 이거는 전체에 적용할 수 없음. 어거지로 맞춘 것\n",
    "        count = 1\n",
    "        next_num = x + 1\n",
    "        if next_num < len(T):\n",
    "            while T[x] > T[next_num] :\n",
    "                next_num += 1\n",
    "                count += 1\n",
    "            new_list[x] = count\n",
    "        else :\n",
    "            new_list[x] = 0\n",
    "    return new_list\n",
    "\n",
    "dailyTemperatures(T) #  [1, 1, 4, 2, 1, 1, 0, 0]\n"
   ]
  },
  {
   "cell_type": "code",
   "execution_count": 4,
   "metadata": {
    "slideshow": {
     "slide_type": "slide"
    }
   },
   "outputs": [
    {
     "data": {
      "text/plain": [
       "[1, 1, 4, 2, 1, 1, 0, 0]"
      ]
     },
     "execution_count": 4,
     "metadata": {},
     "output_type": "execute_result"
    }
   ],
   "source": [
    "# 다른 사람 풀이 -> stack은 나중에 들어온 것이 먼저 나가는 LIFO 구조이다.\n",
    "\n",
    "def dailyTemperatures(T) :\n",
    "    answer = [0] * len(T)                        # [0, 0, 0, 0, 0, 0, 0, 0] 을 만든다.\n",
    "    stack = []                                   # stack 이라는 빈 리스트를 만든다. --> 이전 값을 비교하기 위한 리스트이다.\n",
    "    for i, cur in enumerate(T) :                 # T의 리스트의 인덱스와 값을 열거한다. [0,73], [1,74] [2,75], [3,71], ~\n",
    "        while stack and cur > T[stack[-1]]:      # stack안에 원소가 존재하고, cur이 T 리스트의 이전 값보다 크다면 진행\n",
    "            last = stack.pop()                   # stack에서 이전 인덱스를 제거하며, 해당 인덱스는 last에 넣는다.  \n",
    "            answer[last] = i - last              # answer 리스트에서 이전 인덱스에 해당하는 값을 (현재 인덱스 - 이전 인덱스)로 설정한다. \n",
    "        stack.append(i)                          # stack에 현재 인덱스를 추가해 다음 인덱스와 비교한다.\n",
    "    return answer                                # answer를 리턴한다.\n",
    "\n",
    "# 순서를 적어보자\n",
    "# i=0 : 처음에 stack 안에 아무것도 없으니 while문을 돌아가지 않고 stack에 0이 입력된다.\n",
    "# 현 상태 : answer = [0, 0, 0, 0, 0, 0, 0, 0], stack = [0]\n",
    "\n",
    "# i=1 : stack 맨 뒤에 [0]이 존재, T[0]=73이며 cur=74이다. 때문에 last는 0이며 answer[0]은 1-0인 1이 된다.  \n",
    "#       stack에는 아무것도 존재하지 않으며, while은 종료된다. stack에 1이 추가된다.\n",
    "# 현 상태 : answer = [1, 0, 0, 0, 0, 0, 0, 0], stack = [1]\n",
    "\n",
    "# i=2 : stack 맨 뒤에 [1]이 존재, T[1]=74이며 cur=75이다. 때문에 last는 1이며 answer[1]은 2-1인 1이 된다.  \n",
    "#       stack에는 아무것도 존재하지 않으며, while은 종료된다. stack에 2가 추가된다.\n",
    "# 현 상태 : answer = [1, 1, 0, 0, 0, 0, 0, 0], stack = [2]\n",
    "\n",
    "# i=3 : stack 맨 뒤에 [2]가 존재, T[2]=75이며 cur=71이다. 때문에 while문은 돌아가지 않고 stack에는 3을 넣는다.\n",
    "# 현 상태 : answer = [1, 1, 0, 0, 0, 0, 0, 0], stack = [2,3]\n",
    "\n",
    "# i=4 : stack 맨 뒤에 [3]이 존재, T[3]=71이며 cur=69이다. 때문에 while문은 돌아가지 않고 stack에는 4를 넣는다.\n",
    "# 현 상태 : answer = [1, 1, 0, 0, 0, 0, 0, 0], stack = [2,3,4]\n",
    "\n",
    "# i=5 : stack 맨 뒤에 [4]가 존재, T[4]=69이며 cur=72이다. 때문에 last는 4이며 answer[4]는 5-4인 1이 된다. \n",
    "#       stack 맨 뒤에 [3]이 존재, T[3]=71이며 cur=72이다. 때문에 last는 3이며 answer[3]은 5-3인 2가 된다.\n",
    "#       stack 맨 뒤에 [2]가 존재, T[2]=75이며 cur=72이다. while은 종료된다. stack에 5가 추가된다.\n",
    "# 현 상태 : answer = [1, 1, 0, 2, 1, 0, 0, 0], stack = [2,5]\n",
    "\n",
    "# i=6 : stack 맨 뒤에 [5]가 존재, T[5]=72이며 cur=76이다. 때문에 last는 5이며 answer[5]는 6-5인 1이 된다. \n",
    "#       stack 맨 뒤에 [2]가 존재, T[2]=75이며 cur=76이다. 때문에 last는 2이며, answer[2]는 6-2인 4가 된다.\n",
    "#       stack에는 아무것도 존재하지 않으며, while은 종료된다. stack에 6이 추가된다.\n",
    "# 현 상태 : answer = [1, 1, 4, 2, 1, 1, 0, 0], stack = [6]\n",
    "\n",
    "# i=7 : stack 맨 뒤에 [6]이 존재, T[6]=76이며 cur=73이다. 때문에 while문은 돌아가지 않고 stack에는 7을 넣으며 for문이 종료된다.\n",
    "# 현 상태 : answer = [1, 1, 4, 2, 1, 1, 0, 0], stack = [2,3,6,7]\n",
    "\n",
    "    \n",
    "T = [73, 74, 75, 71, 69, 72, 76, 73] #  [1, 1, 4, 2, 1, 1, 0, 0]\n",
    "dailyTemperatures(T)"
   ]
  },
  {
   "cell_type": "code",
   "execution_count": 18,
   "metadata": {},
   "outputs": [],
   "source": [
    "# from typing import List\n",
    "# class Solution:\n",
    "#     def dailyTemperatures(self, T: List[int]) -> List[int]:\n",
    "#         answer = [0] * len(T)\n",
    "#         stack = []\n",
    "#         for i, cur in enumerate(T):\n",
    "#             # 현재 온도가 스택 값보다 높다면 정답 처리\n",
    "#             while stack and cur > T[stack[-1]]:\n",
    "#                 last = stack.pop()\n",
    "#                 answer[last] = i - last\n",
    "#             stack.append(i)\n",
    "\n",
    "#         return answer"
   ]
  },
  {
   "cell_type": "markdown",
   "metadata": {},
   "source": [
    "# 23. 큐를 이용한 스택 구현 (leetcode 225. Implement Stack using Queues) - ⭐️\n",
    "\n"
   ]
  },
  {
   "cell_type": "code",
   "execution_count": null,
   "metadata": {},
   "outputs": [],
   "source": []
  },
  {
   "cell_type": "code",
   "execution_count": null,
   "metadata": {},
   "outputs": [],
   "source": [
    "# 책 풀이\n",
    "\n",
    "class Mystack : \n",
    "    def __init__(self):\n",
    "        self.q = collections.deque() # deque로 queue를 구현\n",
    "        \n",
    "    def push(self,x):\n",
    "        self.q.append(x)\n",
    "        # 요소 삽입 후 맨 앞에 두는 상태로 재정렬\n",
    "        for _ in range(len(self.q)-1):\n",
    "            self.q.append(self.q.popleft())\n",
    "            \n",
    "    def pop(self):\n",
    "        return self.q.popleft()\n",
    "    \n",
    "    def top(self):\n",
    "        return self.q[0]\n",
    "    \n",
    "    def empty(self):\n",
    "        return len(self.q) == 0"
   ]
  },
  {
   "cell_type": "markdown",
   "metadata": {},
   "source": [
    "# 24. 스택을 이용한 큐 구현 (leetcode 232. Implement Queue using Stacks) - ⭐️\n",
    "\n"
   ]
  },
  {
   "cell_type": "code",
   "execution_count": null,
   "metadata": {},
   "outputs": [],
   "source": []
  },
  {
   "cell_type": "code",
   "execution_count": null,
   "metadata": {},
   "outputs": [],
   "source": [
    "# 책 풀이 \n",
    "\n",
    "class MyQueue :\n",
    "    def __init__(self):\n",
    "        self.input = []\n",
    "        self.output = []\n",
    "        \n",
    "    def push(self,x):\n",
    "        self.input.append(x)\n",
    "\n",
    "    def peek(self):\n",
    "        # output이 없으면 모두 재입력\n",
    "        if not self.output:\n",
    "            whiel self.input:\n",
    "                self.output.append(self.input.pop())\n",
    "        return self.output[-1]\n",
    "        \n",
    "    def pop(self):\n",
    "        self.peek()\n",
    "        return self.output.pop()\n",
    "    \n",
    "    \n",
    "    def empty(self):\n",
    "        return len(self.q) == 0"
   ]
  },
  {
   "cell_type": "markdown",
   "metadata": {},
   "source": [
    "# 25. 원형 큐 디자인 (leetcode 622. Design Circular Queue) - ⭐️⭐️"
   ]
  },
  {
   "cell_type": "code",
   "execution_count": null,
   "metadata": {},
   "outputs": [],
   "source": []
  },
  {
   "cell_type": "code",
   "execution_count": null,
   "metadata": {},
   "outputs": [],
   "source": [
    "# 책 풀이 \n",
    "\n",
    "class MyCircularQueue :\n",
    "    def __init__(self):\n",
    "        self.q = [None] * k\n",
    "        self.maxlen= k\n",
    "        self.p1 = 0\n",
    "        self.p2 = 0\n",
    "        \n",
    "    # enQueue(): rear 포인터 이동\n",
    "    def enQueue(self, value:int) -> bool :\n",
    "        if self.q[self.p2] is None :\n",
    "            self.q[self.p2] = value\n",
    "            self.p2 = (self.p2 + 1) % self.maxlen\n",
    "            return True\n",
    "        else :\n",
    "            return False\n",
    "        \n",
    "    # deQueue : front 포인터 이동"
   ]
  }
 ],
 "metadata": {
  "celltoolbar": "Slideshow",
  "kernelspec": {
   "display_name": "aiffel",
   "language": "python",
   "name": "aiffel"
  },
  "language_info": {
   "codemirror_mode": {
    "name": "ipython",
    "version": 3
   },
   "file_extension": ".py",
   "mimetype": "text/x-python",
   "name": "python",
   "nbconvert_exporter": "python",
   "pygments_lexer": "ipython3",
   "version": "3.7.9"
  }
 },
 "nbformat": 4,
 "nbformat_minor": 4
}
